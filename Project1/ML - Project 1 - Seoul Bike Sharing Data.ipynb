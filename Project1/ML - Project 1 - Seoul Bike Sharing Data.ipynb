{
 "cells": [
  {
   "cell_type": "markdown",
   "metadata": {},
   "source": [
    "# Machine Learning Project 1 - Seoul Bike Sharing Demand\n",
    "## Antonije Petrović 1253, January 2021\n",
    "\n",
    "Dataset: https://archive.ics.uci.edu/ml/datasets/Seoul+Bike+Sharing+Demand\n",
    "\n",
    "References:\n",
    "\n",
    "Sathishkumar V E, Jangwoo Park, and Yongyun Cho. 'Using data mining techniques for bike sharing demand prediction in metropolitan city.' Computer Communications, Vol.153, pp.353-366, March, 202\n",
    "\n",
    "Sathishkumar V E and Yongyun Cho. 'A rule-based model for Seoul Bike sharing demand prediction using weather data' European Journal of Remote Sensing, pp. 1-18, Feb, 2020"
   ]
  },
  {
   "cell_type": "markdown",
   "metadata": {},
   "source": [
    "# 1. Loading data"
   ]
  },
  {
   "cell_type": "code",
   "execution_count": 1,
   "metadata": {},
   "outputs": [],
   "source": [
    "import numpy as np\n",
    "import pandas as pd\n",
    "import matplotlib.pyplot as plt\n",
    "import seaborn as sb\n",
    "from datetime import datetime"
   ]
  },
  {
   "cell_type": "code",
   "execution_count": 2,
   "metadata": {},
   "outputs": [],
   "source": [
    "custom_date_parser = lambda x: datetime.strptime(x, \"%d/%m/%Y\")\n",
    "data = pd.read_csv('SeoulBikeData.csv', \n",
    "                   parse_dates=['Date'],\n",
    "                   date_parser=custom_date_parser,\n",
    "                   encoding= 'unicode_escape')"
   ]
  },
  {
   "cell_type": "markdown",
   "metadata": {},
   "source": [
    "This is how data originally looks like:"
   ]
  },
  {
   "cell_type": "code",
   "execution_count": 3,
   "metadata": {
    "scrolled": true
   },
   "outputs": [
    {
     "data": {
      "text/html": [
       "<div>\n",
       "<style scoped>\n",
       "    .dataframe tbody tr th:only-of-type {\n",
       "        vertical-align: middle;\n",
       "    }\n",
       "\n",
       "    .dataframe tbody tr th {\n",
       "        vertical-align: top;\n",
       "    }\n",
       "\n",
       "    .dataframe thead th {\n",
       "        text-align: right;\n",
       "    }\n",
       "</style>\n",
       "<table border=\"1\" class=\"dataframe\">\n",
       "  <thead>\n",
       "    <tr style=\"text-align: right;\">\n",
       "      <th></th>\n",
       "      <th>Date</th>\n",
       "      <th>Rented Bike Count</th>\n",
       "      <th>Hour</th>\n",
       "      <th>Temperature(°C)</th>\n",
       "      <th>Humidity(%)</th>\n",
       "      <th>Wind speed (m/s)</th>\n",
       "      <th>Visibility (10m)</th>\n",
       "      <th>Dew point temperature(°C)</th>\n",
       "      <th>Solar Radiation (MJ/m2)</th>\n",
       "      <th>Rainfall(mm)</th>\n",
       "      <th>Snowfall (cm)</th>\n",
       "      <th>Seasons</th>\n",
       "      <th>Holiday</th>\n",
       "      <th>Functioning Day</th>\n",
       "    </tr>\n",
       "  </thead>\n",
       "  <tbody>\n",
       "    <tr>\n",
       "      <th>0</th>\n",
       "      <td>2017-12-01</td>\n",
       "      <td>254</td>\n",
       "      <td>0</td>\n",
       "      <td>-5.2</td>\n",
       "      <td>37</td>\n",
       "      <td>2.2</td>\n",
       "      <td>2000</td>\n",
       "      <td>-17.6</td>\n",
       "      <td>0.0</td>\n",
       "      <td>0.0</td>\n",
       "      <td>0.0</td>\n",
       "      <td>Winter</td>\n",
       "      <td>No Holiday</td>\n",
       "      <td>Yes</td>\n",
       "    </tr>\n",
       "    <tr>\n",
       "      <th>1</th>\n",
       "      <td>2017-12-01</td>\n",
       "      <td>204</td>\n",
       "      <td>1</td>\n",
       "      <td>-5.5</td>\n",
       "      <td>38</td>\n",
       "      <td>0.8</td>\n",
       "      <td>2000</td>\n",
       "      <td>-17.6</td>\n",
       "      <td>0.0</td>\n",
       "      <td>0.0</td>\n",
       "      <td>0.0</td>\n",
       "      <td>Winter</td>\n",
       "      <td>No Holiday</td>\n",
       "      <td>Yes</td>\n",
       "    </tr>\n",
       "    <tr>\n",
       "      <th>2</th>\n",
       "      <td>2017-12-01</td>\n",
       "      <td>173</td>\n",
       "      <td>2</td>\n",
       "      <td>-6.0</td>\n",
       "      <td>39</td>\n",
       "      <td>1.0</td>\n",
       "      <td>2000</td>\n",
       "      <td>-17.7</td>\n",
       "      <td>0.0</td>\n",
       "      <td>0.0</td>\n",
       "      <td>0.0</td>\n",
       "      <td>Winter</td>\n",
       "      <td>No Holiday</td>\n",
       "      <td>Yes</td>\n",
       "    </tr>\n",
       "    <tr>\n",
       "      <th>3</th>\n",
       "      <td>2017-12-01</td>\n",
       "      <td>107</td>\n",
       "      <td>3</td>\n",
       "      <td>-6.2</td>\n",
       "      <td>40</td>\n",
       "      <td>0.9</td>\n",
       "      <td>2000</td>\n",
       "      <td>-17.6</td>\n",
       "      <td>0.0</td>\n",
       "      <td>0.0</td>\n",
       "      <td>0.0</td>\n",
       "      <td>Winter</td>\n",
       "      <td>No Holiday</td>\n",
       "      <td>Yes</td>\n",
       "    </tr>\n",
       "    <tr>\n",
       "      <th>4</th>\n",
       "      <td>2017-12-01</td>\n",
       "      <td>78</td>\n",
       "      <td>4</td>\n",
       "      <td>-6.0</td>\n",
       "      <td>36</td>\n",
       "      <td>2.3</td>\n",
       "      <td>2000</td>\n",
       "      <td>-18.6</td>\n",
       "      <td>0.0</td>\n",
       "      <td>0.0</td>\n",
       "      <td>0.0</td>\n",
       "      <td>Winter</td>\n",
       "      <td>No Holiday</td>\n",
       "      <td>Yes</td>\n",
       "    </tr>\n",
       "  </tbody>\n",
       "</table>\n",
       "</div>"
      ],
      "text/plain": [
       "        Date  Rented Bike Count  Hour  Temperature(°C)  Humidity(%)  \\\n",
       "0 2017-12-01                254     0             -5.2           37   \n",
       "1 2017-12-01                204     1             -5.5           38   \n",
       "2 2017-12-01                173     2             -6.0           39   \n",
       "3 2017-12-01                107     3             -6.2           40   \n",
       "4 2017-12-01                 78     4             -6.0           36   \n",
       "\n",
       "   Wind speed (m/s)  Visibility (10m)  Dew point temperature(°C)  \\\n",
       "0               2.2              2000                      -17.6   \n",
       "1               0.8              2000                      -17.6   \n",
       "2               1.0              2000                      -17.7   \n",
       "3               0.9              2000                      -17.6   \n",
       "4               2.3              2000                      -18.6   \n",
       "\n",
       "   Solar Radiation (MJ/m2)  Rainfall(mm)  Snowfall (cm) Seasons     Holiday  \\\n",
       "0                      0.0           0.0            0.0  Winter  No Holiday   \n",
       "1                      0.0           0.0            0.0  Winter  No Holiday   \n",
       "2                      0.0           0.0            0.0  Winter  No Holiday   \n",
       "3                      0.0           0.0            0.0  Winter  No Holiday   \n",
       "4                      0.0           0.0            0.0  Winter  No Holiday   \n",
       "\n",
       "  Functioning Day  \n",
       "0             Yes  \n",
       "1             Yes  \n",
       "2             Yes  \n",
       "3             Yes  \n",
       "4             Yes  "
      ]
     },
     "execution_count": 3,
     "metadata": {},
     "output_type": "execute_result"
    }
   ],
   "source": [
    "data.head()"
   ]
  },
  {
   "cell_type": "markdown",
   "metadata": {},
   "source": [
    "# 2. Data Analysis\n",
    "\n",
    "We can see that no data is missing:"
   ]
  },
  {
   "cell_type": "code",
   "execution_count": 4,
   "metadata": {
    "scrolled": false
   },
   "outputs": [
    {
     "data": {
      "text/plain": [
       "Date                         0\n",
       "Rented Bike Count            0\n",
       "Hour                         0\n",
       "Temperature(°C)              0\n",
       "Humidity(%)                  0\n",
       "Wind speed (m/s)             0\n",
       "Visibility (10m)             0\n",
       "Dew point temperature(°C)    0\n",
       "Solar Radiation (MJ/m2)      0\n",
       "Rainfall(mm)                 0\n",
       "Snowfall (cm)                0\n",
       "Seasons                      0\n",
       "Holiday                      0\n",
       "Functioning Day              0\n",
       "dtype: int64"
      ]
     },
     "execution_count": 4,
     "metadata": {},
     "output_type": "execute_result"
    }
   ],
   "source": [
    "data.isna().sum()"
   ]
  },
  {
   "cell_type": "markdown",
   "metadata": {},
   "source": [
    "The types of the features are the following:"
   ]
  },
  {
   "cell_type": "code",
   "execution_count": 5,
   "metadata": {
    "scrolled": true
   },
   "outputs": [
    {
     "data": {
      "text/plain": [
       "Date                         datetime64[ns]\n",
       "Rented Bike Count                     int64\n",
       "Hour                                  int64\n",
       "Temperature(°C)                     float64\n",
       "Humidity(%)                           int64\n",
       "Wind speed (m/s)                    float64\n",
       "Visibility (10m)                      int64\n",
       "Dew point temperature(°C)           float64\n",
       "Solar Radiation (MJ/m2)             float64\n",
       "Rainfall(mm)                        float64\n",
       "Snowfall (cm)                       float64\n",
       "Seasons                              object\n",
       "Holiday                              object\n",
       "Functioning Day                      object\n",
       "dtype: object"
      ]
     },
     "execution_count": 5,
     "metadata": {},
     "output_type": "execute_result"
    }
   ],
   "source": [
    "data.dtypes"
   ]
  },
  {
   "cell_type": "markdown",
   "metadata": {},
   "source": [
    "We can see the descriptional analysis of the continious features:"
   ]
  },
  {
   "cell_type": "code",
   "execution_count": 6,
   "metadata": {
    "scrolled": true
   },
   "outputs": [
    {
     "data": {
      "text/html": [
       "<div>\n",
       "<style scoped>\n",
       "    .dataframe tbody tr th:only-of-type {\n",
       "        vertical-align: middle;\n",
       "    }\n",
       "\n",
       "    .dataframe tbody tr th {\n",
       "        vertical-align: top;\n",
       "    }\n",
       "\n",
       "    .dataframe thead th {\n",
       "        text-align: right;\n",
       "    }\n",
       "</style>\n",
       "<table border=\"1\" class=\"dataframe\">\n",
       "  <thead>\n",
       "    <tr style=\"text-align: right;\">\n",
       "      <th></th>\n",
       "      <th>Rented Bike Count</th>\n",
       "      <th>Hour</th>\n",
       "      <th>Temperature(°C)</th>\n",
       "      <th>Humidity(%)</th>\n",
       "      <th>Wind speed (m/s)</th>\n",
       "      <th>Visibility (10m)</th>\n",
       "      <th>Dew point temperature(°C)</th>\n",
       "      <th>Solar Radiation (MJ/m2)</th>\n",
       "      <th>Rainfall(mm)</th>\n",
       "      <th>Snowfall (cm)</th>\n",
       "    </tr>\n",
       "  </thead>\n",
       "  <tbody>\n",
       "    <tr>\n",
       "      <th>count</th>\n",
       "      <td>8760.000000</td>\n",
       "      <td>8760.000000</td>\n",
       "      <td>8760.000000</td>\n",
       "      <td>8760.000000</td>\n",
       "      <td>8760.000000</td>\n",
       "      <td>8760.000000</td>\n",
       "      <td>8760.000000</td>\n",
       "      <td>8760.000000</td>\n",
       "      <td>8760.000000</td>\n",
       "      <td>8760.000000</td>\n",
       "    </tr>\n",
       "    <tr>\n",
       "      <th>mean</th>\n",
       "      <td>704.602055</td>\n",
       "      <td>11.500000</td>\n",
       "      <td>12.882922</td>\n",
       "      <td>58.226256</td>\n",
       "      <td>1.724909</td>\n",
       "      <td>1436.825799</td>\n",
       "      <td>4.073813</td>\n",
       "      <td>0.569111</td>\n",
       "      <td>0.148687</td>\n",
       "      <td>0.075068</td>\n",
       "    </tr>\n",
       "    <tr>\n",
       "      <th>std</th>\n",
       "      <td>644.997468</td>\n",
       "      <td>6.922582</td>\n",
       "      <td>11.944825</td>\n",
       "      <td>20.362413</td>\n",
       "      <td>1.036300</td>\n",
       "      <td>608.298712</td>\n",
       "      <td>13.060369</td>\n",
       "      <td>0.868746</td>\n",
       "      <td>1.128193</td>\n",
       "      <td>0.436746</td>\n",
       "    </tr>\n",
       "    <tr>\n",
       "      <th>min</th>\n",
       "      <td>0.000000</td>\n",
       "      <td>0.000000</td>\n",
       "      <td>-17.800000</td>\n",
       "      <td>0.000000</td>\n",
       "      <td>0.000000</td>\n",
       "      <td>27.000000</td>\n",
       "      <td>-30.600000</td>\n",
       "      <td>0.000000</td>\n",
       "      <td>0.000000</td>\n",
       "      <td>0.000000</td>\n",
       "    </tr>\n",
       "    <tr>\n",
       "      <th>25%</th>\n",
       "      <td>191.000000</td>\n",
       "      <td>5.750000</td>\n",
       "      <td>3.500000</td>\n",
       "      <td>42.000000</td>\n",
       "      <td>0.900000</td>\n",
       "      <td>940.000000</td>\n",
       "      <td>-4.700000</td>\n",
       "      <td>0.000000</td>\n",
       "      <td>0.000000</td>\n",
       "      <td>0.000000</td>\n",
       "    </tr>\n",
       "    <tr>\n",
       "      <th>50%</th>\n",
       "      <td>504.500000</td>\n",
       "      <td>11.500000</td>\n",
       "      <td>13.700000</td>\n",
       "      <td>57.000000</td>\n",
       "      <td>1.500000</td>\n",
       "      <td>1698.000000</td>\n",
       "      <td>5.100000</td>\n",
       "      <td>0.010000</td>\n",
       "      <td>0.000000</td>\n",
       "      <td>0.000000</td>\n",
       "    </tr>\n",
       "    <tr>\n",
       "      <th>75%</th>\n",
       "      <td>1065.250000</td>\n",
       "      <td>17.250000</td>\n",
       "      <td>22.500000</td>\n",
       "      <td>74.000000</td>\n",
       "      <td>2.300000</td>\n",
       "      <td>2000.000000</td>\n",
       "      <td>14.800000</td>\n",
       "      <td>0.930000</td>\n",
       "      <td>0.000000</td>\n",
       "      <td>0.000000</td>\n",
       "    </tr>\n",
       "    <tr>\n",
       "      <th>max</th>\n",
       "      <td>3556.000000</td>\n",
       "      <td>23.000000</td>\n",
       "      <td>39.400000</td>\n",
       "      <td>98.000000</td>\n",
       "      <td>7.400000</td>\n",
       "      <td>2000.000000</td>\n",
       "      <td>27.200000</td>\n",
       "      <td>3.520000</td>\n",
       "      <td>35.000000</td>\n",
       "      <td>8.800000</td>\n",
       "    </tr>\n",
       "  </tbody>\n",
       "</table>\n",
       "</div>"
      ],
      "text/plain": [
       "       Rented Bike Count         Hour  Temperature(°C)  Humidity(%)  \\\n",
       "count        8760.000000  8760.000000      8760.000000  8760.000000   \n",
       "mean          704.602055    11.500000        12.882922    58.226256   \n",
       "std           644.997468     6.922582        11.944825    20.362413   \n",
       "min             0.000000     0.000000       -17.800000     0.000000   \n",
       "25%           191.000000     5.750000         3.500000    42.000000   \n",
       "50%           504.500000    11.500000        13.700000    57.000000   \n",
       "75%          1065.250000    17.250000        22.500000    74.000000   \n",
       "max          3556.000000    23.000000        39.400000    98.000000   \n",
       "\n",
       "       Wind speed (m/s)  Visibility (10m)  Dew point temperature(°C)  \\\n",
       "count       8760.000000       8760.000000                8760.000000   \n",
       "mean           1.724909       1436.825799                   4.073813   \n",
       "std            1.036300        608.298712                  13.060369   \n",
       "min            0.000000         27.000000                 -30.600000   \n",
       "25%            0.900000        940.000000                  -4.700000   \n",
       "50%            1.500000       1698.000000                   5.100000   \n",
       "75%            2.300000       2000.000000                  14.800000   \n",
       "max            7.400000       2000.000000                  27.200000   \n",
       "\n",
       "       Solar Radiation (MJ/m2)  Rainfall(mm)  Snowfall (cm)  \n",
       "count              8760.000000   8760.000000    8760.000000  \n",
       "mean                  0.569111      0.148687       0.075068  \n",
       "std                   0.868746      1.128193       0.436746  \n",
       "min                   0.000000      0.000000       0.000000  \n",
       "25%                   0.000000      0.000000       0.000000  \n",
       "50%                   0.010000      0.000000       0.000000  \n",
       "75%                   0.930000      0.000000       0.000000  \n",
       "max                   3.520000     35.000000       8.800000  "
      ]
     },
     "execution_count": 6,
     "metadata": {},
     "output_type": "execute_result"
    }
   ],
   "source": [
    "data.describe(exclude = [object, 'datetime64'], datetime_is_numeric=True)"
   ]
  },
  {
   "cell_type": "markdown",
   "metadata": {},
   "source": [
    "Furthermore, we can see the descriptional analysis of the categorical features:"
   ]
  },
  {
   "cell_type": "code",
   "execution_count": 7,
   "metadata": {},
   "outputs": [
    {
     "data": {
      "text/html": [
       "<div>\n",
       "<style scoped>\n",
       "    .dataframe tbody tr th:only-of-type {\n",
       "        vertical-align: middle;\n",
       "    }\n",
       "\n",
       "    .dataframe tbody tr th {\n",
       "        vertical-align: top;\n",
       "    }\n",
       "\n",
       "    .dataframe thead th {\n",
       "        text-align: right;\n",
       "    }\n",
       "</style>\n",
       "<table border=\"1\" class=\"dataframe\">\n",
       "  <thead>\n",
       "    <tr style=\"text-align: right;\">\n",
       "      <th></th>\n",
       "      <th>Seasons</th>\n",
       "      <th>Holiday</th>\n",
       "      <th>Functioning Day</th>\n",
       "    </tr>\n",
       "  </thead>\n",
       "  <tbody>\n",
       "    <tr>\n",
       "      <th>count</th>\n",
       "      <td>8760</td>\n",
       "      <td>8760</td>\n",
       "      <td>8760</td>\n",
       "    </tr>\n",
       "    <tr>\n",
       "      <th>unique</th>\n",
       "      <td>4</td>\n",
       "      <td>2</td>\n",
       "      <td>2</td>\n",
       "    </tr>\n",
       "    <tr>\n",
       "      <th>top</th>\n",
       "      <td>Spring</td>\n",
       "      <td>No Holiday</td>\n",
       "      <td>Yes</td>\n",
       "    </tr>\n",
       "    <tr>\n",
       "      <th>freq</th>\n",
       "      <td>2208</td>\n",
       "      <td>8328</td>\n",
       "      <td>8465</td>\n",
       "    </tr>\n",
       "  </tbody>\n",
       "</table>\n",
       "</div>"
      ],
      "text/plain": [
       "       Seasons     Holiday Functioning Day\n",
       "count     8760        8760            8760\n",
       "unique       4           2               2\n",
       "top     Spring  No Holiday             Yes\n",
       "freq      2208        8328            8465"
      ]
     },
     "execution_count": 7,
     "metadata": {},
     "output_type": "execute_result"
    }
   ],
   "source": [
    "data.describe(include = [object])"
   ]
  },
  {
   "cell_type": "markdown",
   "metadata": {},
   "source": [
    "Most of the features are continuous, but a few of them are categorical:\n",
    "\n",
    "- **Seasons**, with possible values: *Winter*, *Spring*, *Summer*, *Autumn*\n",
    "- **Holiday**, with possible values: *Holiday*, *No Holiday*\n",
    "- **Functioning Day**, with possible values: *Yes*, *No*"
   ]
  },
  {
   "cell_type": "markdown",
   "metadata": {},
   "source": [
    "## 2.1 Data visualization"
   ]
  },
  {
   "cell_type": "code",
   "execution_count": 8,
   "metadata": {
    "scrolled": false
   },
   "outputs": [
    {
     "data": {
      "image/png": "[encoded data removed]",
      "text/plain": [
       "<Figure size 1152x576 with 4 Axes>"
      ]
     },
     "metadata": {
      "needs_background": "light"
     },
     "output_type": "display_data"
    }
   ],
   "source": [
    "f, ax=plt.subplots(2, 2, figsize=(16, 8))\n",
    "\n",
    "sb.boxplot(data=data,x=\"Holiday\", y=\"Rented Bike Count\", ax = ax[0,0])\n",
    "sb.boxplot(data=data,x=\"Hour\", y=\"Rented Bike Count\", ax = ax[0,1])\n",
    "sb.boxplot(data=data,x=\"Functioning Day\", y=\"Rented Bike Count\", ax = ax[1,0])\n",
    "sb.boxplot(data=data,x=\"Seasons\", y=\"Rented Bike Count\", ax = ax[1,1])\n",
    "\n",
    "plt.show()"
   ]
  },
  {
   "cell_type": "markdown",
   "metadata": {},
   "source": [
    "We can see that when the \"Functioning Day\" features has a value \"No\", then the \"Rented Bike Count\" is always 0. This is because this feature means that those are the days when the software was not counting the rented bikes."
   ]
  },
  {
   "cell_type": "code",
   "execution_count": 9,
   "metadata": {},
   "outputs": [
    {
     "name": "stdout",
     "output_type": "stream",
     "text": [
      "0\n"
     ]
    }
   ],
   "source": [
    "result_df = data.loc[data['Functioning Day'] == 'No']\n",
    "print(len(result_df.loc[result_df['Rented Bike Count'] > 0]))"
   ]
  },
  {
   "cell_type": "code",
   "execution_count": 10,
   "metadata": {
    "scrolled": false
   },
   "outputs": [],
   "source": [
    "#numerical_data = data.select_dtypes(include=['float64', 'int64'])\n",
    "#sb.pairplot(numerical_data)\n",
    "#plt.show()"
   ]
  },
  {
   "cell_type": "code",
   "execution_count": 11,
   "metadata": {
    "scrolled": false
   },
   "outputs": [
    {
     "data": {
      "text/plain": [
       "<AxesSubplot:>"
      ]
     },
     "execution_count": 11,
     "metadata": {},
     "output_type": "execute_result"
    },
    {
     "data": {
      "image/png": "[encoded data removed]",
      "text/plain": [
       "<Figure size 648x648 with 2 Axes>"
      ]
     },
     "metadata": {
      "needs_background": "light"
     },
     "output_type": "display_data"
    }
   ],
   "source": [
    "plt.subplots(figsize=(9, 9))\n",
    "corr = data.corr()\n",
    "sb.heatmap(corr, \n",
    "           annot=True,\n",
    "           xticklabels=corr.columns.values, \n",
    "           yticklabels=corr.columns.values)"
   ]
  },
  {
   "cell_type": "markdown",
   "metadata": {},
   "source": [
    "Let's see the correlation between temperature and rented bike count now. The temperature values are scaled to fit the range of the rented bike count. It can be seen on the following plot that rented bike count fairly correlates to the temperature, with an exception during summer months when the temperatures are high."
   ]
  },
  {
   "cell_type": "code",
   "execution_count": 12,
   "metadata": {
    "scrolled": false
   },
   "outputs": [
    {
     "data": {
      "text/plain": [
       "Text(0.5, 0, 'Date')"
      ]
     },
     "execution_count": 12,
     "metadata": {},
     "output_type": "execute_result"
    },
    {
     "data": {
      "image/png": "[encoded data removed]",
      "text/plain": [
       "<Figure size 864x864 with 1 Axes>"
      ]
     },
     "metadata": {
      "needs_background": "light"
     },
     "output_type": "display_data"
    }
   ],
   "source": [
    "import matplotlib\n",
    "\n",
    "fig, ax = plt.subplots(figsize=(12, 12))\n",
    "\n",
    "dates = matplotlib.dates.date2num(data[\"Date\"].unique())\n",
    "bike_counts_per_day = data.groupby([\"Date\"])[\"Rented Bike Count\"].max()\n",
    "temperatures_per_day = data.groupby([\"Date\"])[\"Temperature(°C)\"].max()\n",
    "\n",
    "count_min, count_max = bike_counts_per_day.min(), bike_counts_per_day.max()\n",
    "temp_min, temp_max = temperatures_per_day.min(), temperatures_per_day.max()\n",
    "\n",
    "# scaling temperature values to range (count_min, count_max)\n",
    "temperatures_per_day = (temperatures_per_day - temp_min) / (temp_max - temp_min) * (count_max - count_min) + count_min\n",
    "\n",
    "plt.plot_date(dates, bike_counts_per_day, label=\"Rented Bike Count per day\", mew=0.1)\n",
    "plt.plot_date(dates, temperatures_per_day, marker='x', label=\"Scaled temperature per day\")\n",
    "plt.legend(loc=\"upper right\")\n",
    "plt.xlabel('Date')"
   ]
  },
  {
   "cell_type": "markdown",
   "metadata": {},
   "source": [
    "## 2.2 Data preprocessing"
   ]
  },
  {
   "cell_type": "markdown",
   "metadata": {},
   "source": [
    "There is a very strong correlation between features \"Temperature\" and \"Dew point temperature\" which is why the latter one will be removed. "
   ]
  },
  {
   "cell_type": "code",
   "execution_count": 13,
   "metadata": {},
   "outputs": [],
   "source": [
    "# Delete correlated column\n",
    "data = data.drop(columns = ['Dew point temperature(°C)'])"
   ]
  },
  {
   "cell_type": "markdown",
   "metadata": {},
   "source": [
    "Categorical features like \"Seasons\", \"Holiday\" or \"Functioning day\" should be encoded with some integer values. Simple integer encoding is not recommended since it creates a natural ordered relationship between the values and this may harm the model. For this reason, categorical features are \"one-hot encoded\"."
   ]
  },
  {
   "cell_type": "code",
   "execution_count": 14,
   "metadata": {
    "scrolled": false
   },
   "outputs": [
    {
     "data": {
      "text/html": [
       "<div>\n",
       "<style scoped>\n",
       "    .dataframe tbody tr th:only-of-type {\n",
       "        vertical-align: middle;\n",
       "    }\n",
       "\n",
       "    .dataframe tbody tr th {\n",
       "        vertical-align: top;\n",
       "    }\n",
       "\n",
       "    .dataframe thead th {\n",
       "        text-align: right;\n",
       "    }\n",
       "</style>\n",
       "<table border=\"1\" class=\"dataframe\">\n",
       "  <thead>\n",
       "    <tr style=\"text-align: right;\">\n",
       "      <th></th>\n",
       "      <th>Date</th>\n",
       "      <th>Rented Bike Count</th>\n",
       "      <th>Hour</th>\n",
       "      <th>Temperature(°C)</th>\n",
       "      <th>Humidity(%)</th>\n",
       "      <th>Wind speed (m/s)</th>\n",
       "      <th>Visibility (10m)</th>\n",
       "      <th>Solar Radiation (MJ/m2)</th>\n",
       "      <th>Rainfall(mm)</th>\n",
       "      <th>Snowfall (cm)</th>\n",
       "      <th>Seasons_Spring</th>\n",
       "      <th>Seasons_Summer</th>\n",
       "      <th>Seasons_Winter</th>\n",
       "      <th>Holiday_No Holiday</th>\n",
       "      <th>Functioning Day_Yes</th>\n",
       "    </tr>\n",
       "  </thead>\n",
       "  <tbody>\n",
       "    <tr>\n",
       "      <th>0</th>\n",
       "      <td>2017-12-01</td>\n",
       "      <td>254</td>\n",
       "      <td>0</td>\n",
       "      <td>-5.2</td>\n",
       "      <td>37</td>\n",
       "      <td>2.2</td>\n",
       "      <td>2000</td>\n",
       "      <td>0.0</td>\n",
       "      <td>0.0</td>\n",
       "      <td>0.0</td>\n",
       "      <td>0</td>\n",
       "      <td>0</td>\n",
       "      <td>1</td>\n",
       "      <td>1</td>\n",
       "      <td>1</td>\n",
       "    </tr>\n",
       "    <tr>\n",
       "      <th>1</th>\n",
       "      <td>2017-12-01</td>\n",
       "      <td>204</td>\n",
       "      <td>1</td>\n",
       "      <td>-5.5</td>\n",
       "      <td>38</td>\n",
       "      <td>0.8</td>\n",
       "      <td>2000</td>\n",
       "      <td>0.0</td>\n",
       "      <td>0.0</td>\n",
       "      <td>0.0</td>\n",
       "      <td>0</td>\n",
       "      <td>0</td>\n",
       "      <td>1</td>\n",
       "      <td>1</td>\n",
       "      <td>1</td>\n",
       "    </tr>\n",
       "    <tr>\n",
       "      <th>2</th>\n",
       "      <td>2017-12-01</td>\n",
       "      <td>173</td>\n",
       "      <td>2</td>\n",
       "      <td>-6.0</td>\n",
       "      <td>39</td>\n",
       "      <td>1.0</td>\n",
       "      <td>2000</td>\n",
       "      <td>0.0</td>\n",
       "      <td>0.0</td>\n",
       "      <td>0.0</td>\n",
       "      <td>0</td>\n",
       "      <td>0</td>\n",
       "      <td>1</td>\n",
       "      <td>1</td>\n",
       "      <td>1</td>\n",
       "    </tr>\n",
       "    <tr>\n",
       "      <th>3</th>\n",
       "      <td>2017-12-01</td>\n",
       "      <td>107</td>\n",
       "      <td>3</td>\n",
       "      <td>-6.2</td>\n",
       "      <td>40</td>\n",
       "      <td>0.9</td>\n",
       "      <td>2000</td>\n",
       "      <td>0.0</td>\n",
       "      <td>0.0</td>\n",
       "      <td>0.0</td>\n",
       "      <td>0</td>\n",
       "      <td>0</td>\n",
       "      <td>1</td>\n",
       "      <td>1</td>\n",
       "      <td>1</td>\n",
       "    </tr>\n",
       "    <tr>\n",
       "      <th>4</th>\n",
       "      <td>2017-12-01</td>\n",
       "      <td>78</td>\n",
       "      <td>4</td>\n",
       "      <td>-6.0</td>\n",
       "      <td>36</td>\n",
       "      <td>2.3</td>\n",
       "      <td>2000</td>\n",
       "      <td>0.0</td>\n",
       "      <td>0.0</td>\n",
       "      <td>0.0</td>\n",
       "      <td>0</td>\n",
       "      <td>0</td>\n",
       "      <td>1</td>\n",
       "      <td>1</td>\n",
       "      <td>1</td>\n",
       "    </tr>\n",
       "  </tbody>\n",
       "</table>\n",
       "</div>"
      ],
      "text/plain": [
       "        Date  Rented Bike Count  Hour  Temperature(°C)  Humidity(%)  \\\n",
       "0 2017-12-01                254     0             -5.2           37   \n",
       "1 2017-12-01                204     1             -5.5           38   \n",
       "2 2017-12-01                173     2             -6.0           39   \n",
       "3 2017-12-01                107     3             -6.2           40   \n",
       "4 2017-12-01                 78     4             -6.0           36   \n",
       "\n",
       "   Wind speed (m/s)  Visibility (10m)  Solar Radiation (MJ/m2)  Rainfall(mm)  \\\n",
       "0               2.2              2000                      0.0           0.0   \n",
       "1               0.8              2000                      0.0           0.0   \n",
       "2               1.0              2000                      0.0           0.0   \n",
       "3               0.9              2000                      0.0           0.0   \n",
       "4               2.3              2000                      0.0           0.0   \n",
       "\n",
       "   Snowfall (cm)  Seasons_Spring  Seasons_Summer  Seasons_Winter  \\\n",
       "0            0.0               0               0               1   \n",
       "1            0.0               0               0               1   \n",
       "2            0.0               0               0               1   \n",
       "3            0.0               0               0               1   \n",
       "4            0.0               0               0               1   \n",
       "\n",
       "   Holiday_No Holiday  Functioning Day_Yes  \n",
       "0                   1                    1  \n",
       "1                   1                    1  \n",
       "2                   1                    1  \n",
       "3                   1                    1  \n",
       "4                   1                    1  "
      ]
     },
     "execution_count": 14,
     "metadata": {},
     "output_type": "execute_result"
    }
   ],
   "source": [
    "data = pd.get_dummies(data, prefix_sep='_', drop_first=True)\n",
    "data.head()"
   ]
  },
  {
   "cell_type": "markdown",
   "metadata": {},
   "source": [
    "# 3. Regression Models\n",
    "\n",
    "A simple function is defined for creating a model, using k-fold cross validation with 10 splits of the data."
   ]
  },
  {
   "cell_type": "code",
   "execution_count": 15,
   "metadata": {},
   "outputs": [],
   "source": [
    "#from sklearn.model_selection import train_test_split  \n",
    "from sklearn import metrics\n",
    "from sklearn import model_selection\n",
    "from sklearn.model_selection import GridSearchCV\n",
    "\n",
    "from sklearn.pipeline import make_pipeline\n",
    "from sklearn.preprocessing import StandardScaler\n",
    "\n",
    "from sklearn.linear_model import LinearRegression\n",
    "from sklearn.linear_model import ElasticNet\n",
    "from sklearn.ensemble import RandomForestRegressor\n",
    "from sklearn.ensemble import AdaBoostRegressor\n",
    "from sklearn.tree import DecisionTreeRegressor\n",
    "from sklearn.neighbors import KNeighborsRegressor\n",
    "from sklearn.linear_model import Lasso\n",
    "\n",
    "# Function for testing model using  GridSearch for hyperparameter optimization\n",
    "def test_model_2(data, model, use_scaling = False):    \n",
    "    y = data['Rented Bike Count']\n",
    "    x = data.drop(columns = ['Rented Bike Count'])\n",
    "\n",
    "    kfold = model_selection.KFold(n_splits=10, random_state=7, shuffle=True)\n",
    "    \n",
    "    regr = None\n",
    "    if (model == 'LR'):\n",
    "        regr = LinearRegression()\n",
    "    elif (model == 'RFR'):\n",
    "        regr = RandomForestRegressor(n_estimators=100, criterion='mse')\n",
    "    elif (model == 'EN'):\n",
    "        regr = ElasticNet(random_state=0)\n",
    "    elif (model == 'KNN'):\n",
    "        regr = KNeighborsRegressor(5, weights='distance')\n",
    "    elif (model == 'LASSO'):\n",
    "        regr = Lasso(alpha=0.1)\n",
    "    elif (model == 'ADABOOST'):\n",
    "        regr = AdaBoostRegressor(DecisionTreeRegressor(max_depth=4),\n",
    "                                 n_estimators=100, \n",
    "                                 random_state=np.random.RandomState(1))\n",
    "        \n",
    "    max_depth = np.arange(1,10)\n",
    "    min_samples_split = np.arange(2,10)\n",
    "    min_samples_leaf = np.arange(2,10) \n",
    "    param_grid = {'max_depth': max_depth, \n",
    "                  'min_samples_split': min_samples_split, \n",
    "                  'min_samples_leaf': min_samples_leaf}\n",
    "    \n",
    "    pipe = make_pipeline(StandardScaler(), \n",
    "                         GridSearchCV(\n",
    "                             estimator=regr, \n",
    "                             param_grid=param_grid, \n",
    "                             n_jobs=-1, \n",
    "                             #cv=kfold, \n",
    "                             refit=True))\n",
    "    scores = model_selection.cross_val_score(pipe, x, y, cv=10)\n",
    "    return scores, pipe    \n",
    "\n",
    "def test_model(data, model, use_scaling = False):    \n",
    "    y = data['Rented Bike Count']\n",
    "    x = data.drop(columns = ['Rented Bike Count'])\n",
    "\n",
    "    kfold = model_selection.KFold(n_splits=10, random_state=7, shuffle=True)\n",
    "    \n",
    "    regr = None\n",
    "    if (model == 'LR'):\n",
    "        regr = LinearRegression()\n",
    "    elif (model == 'RFR'):\n",
    "        regr = RandomForestRegressor(n_estimators=100, criterion='mse')\n",
    "    elif (model == 'EN'):\n",
    "        regr = ElasticNet(random_state=0)\n",
    "    elif (model == 'TREE'):\n",
    "        regr = DecisionTreeRegressor()\n",
    "    elif (model == 'KNN'):\n",
    "        regr = KNeighborsRegressor(5, weights='distance')\n",
    "    elif (model == 'LASSO'):\n",
    "        regr = Lasso(alpha=0.1)\n",
    "    elif (model == 'ADABOOST'):\n",
    "        regr = AdaBoostRegressor(DecisionTreeRegressor(max_depth=4),\n",
    "                                 n_estimators=100, \n",
    "                                 random_state=np.random.RandomState(1))\n",
    "        \n",
    "    pipe = None\n",
    "    if (use_scaling):\n",
    "        pipe = make_pipeline(StandardScaler(), regr)\n",
    "    else:\n",
    "        pipe = make_pipeline(regr)\n",
    "    \n",
    "    scores = model_selection.cross_val_score(pipe, x, y, cv=kfold)\n",
    "    return scores, pipe"
   ]
  },
  {
   "cell_type": "code",
   "execution_count": 16,
   "metadata": {
    "scrolled": true
   },
   "outputs": [],
   "source": [
    "data['Date'] = pd.to_datetime(data['Date'])\n",
    "data['Day'] = pd.DatetimeIndex(data['Date']).day\n",
    "data['Month'] = pd.DatetimeIndex(data['Date']).month\n",
    "data['Year'] = pd.DatetimeIndex(data['Date']).year\n",
    "data.drop('Date', axis = 1, inplace = True)"
   ]
  },
  {
   "cell_type": "code",
   "execution_count": 17,
   "metadata": {},
   "outputs": [],
   "source": [
    "results_list = []"
   ]
  },
  {
   "cell_type": "code",
   "execution_count": 18,
   "metadata": {},
   "outputs": [],
   "source": [
    "res, pipe = test_model(data, 'TREE')\n",
    "results_list.append((\"Decision Tree basic\", res))\n",
    "\n",
    "res, pipe = test_model(data, 'RFR')\n",
    "results_list.append((\"RFR basic\", res))\n",
    "\n",
    "res, pipe = test_model(data, 'LR')\n",
    "results_list.append((\"LR basic\", res))\n",
    "\n",
    "res, pipe = test_model(data, 'KNN')\n",
    "results_list.append((\"KNN basic\", res))\n",
    "\n",
    "res, pipe = test_model(data, 'LASSO')\n",
    "results_list.append((\"Lasso basic\", res))\n",
    "\n",
    "res, pipe = test_model(data, 'ADABOOST')\n",
    "results_list.append((\"Ada Boost basic\", res))"
   ]
  },
  {
   "cell_type": "code",
   "execution_count": 19,
   "metadata": {},
   "outputs": [],
   "source": [
    "res, pipe = test_model(data, 'TREE', True)\n",
    "results_list.append((\"Decision Tree with standardization\", res))\n",
    "\n",
    "res, best_pipe = test_model(data, 'RFR', True)\n",
    "results_list.append((\"RFR with standardization\", res))\n",
    "\n",
    "res, pipe = test_model(data, 'LR', True)\n",
    "results_list.append((\"LR with standardization\", res))\n",
    "\n",
    "res, pipe = test_model(data, 'KNN', True)\n",
    "results_list.append((\"KNN with standardization\", res))\n",
    "\n",
    "res, pipe = test_model(data, 'LASSO', True)\n",
    "results_list.append((\"Lasso with standardization\", res))\n",
    "\n",
    "res, pipe = test_model(data, 'ADABOOST')\n",
    "results_list.append((\"Ada Boost with standardization\", res))"
   ]
  },
  {
   "cell_type": "code",
   "execution_count": 20,
   "metadata": {
    "scrolled": true
   },
   "outputs": [
    {
     "data": {
      "text/html": [
       "<div>\n",
       "<style scoped>\n",
       "    .dataframe tbody tr th:only-of-type {\n",
       "        vertical-align: middle;\n",
       "    }\n",
       "\n",
       "    .dataframe tbody tr th {\n",
       "        vertical-align: top;\n",
       "    }\n",
       "\n",
       "    .dataframe thead th {\n",
       "        text-align: right;\n",
       "    }\n",
       "</style>\n",
       "<table border=\"1\" class=\"dataframe\">\n",
       "  <thead>\n",
       "    <tr style=\"text-align: right;\">\n",
       "      <th></th>\n",
       "      <th>Rented Bike Count</th>\n",
       "      <th>Temperature(°C)</th>\n",
       "      <th>Humidity(%)</th>\n",
       "      <th>Wind speed (m/s)</th>\n",
       "      <th>Visibility (10m)</th>\n",
       "      <th>Solar Radiation (MJ/m2)</th>\n",
       "      <th>Rainfall(mm)</th>\n",
       "      <th>Snowfall (cm)</th>\n",
       "      <th>Seasons_Spring</th>\n",
       "      <th>Seasons_Summer</th>\n",
       "      <th>Seasons_Winter</th>\n",
       "      <th>Holiday_No Holiday</th>\n",
       "      <th>Functioning Day_Yes</th>\n",
       "      <th>Day</th>\n",
       "      <th>Month</th>\n",
       "      <th>Year</th>\n",
       "      <th>hour_sin</th>\n",
       "      <th>hour_cos</th>\n",
       "    </tr>\n",
       "  </thead>\n",
       "  <tbody>\n",
       "    <tr>\n",
       "      <th>0</th>\n",
       "      <td>254</td>\n",
       "      <td>-5.2</td>\n",
       "      <td>37</td>\n",
       "      <td>2.2</td>\n",
       "      <td>2000</td>\n",
       "      <td>0.0</td>\n",
       "      <td>0.0</td>\n",
       "      <td>0.0</td>\n",
       "      <td>0</td>\n",
       "      <td>0</td>\n",
       "      <td>1</td>\n",
       "      <td>1</td>\n",
       "      <td>1</td>\n",
       "      <td>1</td>\n",
       "      <td>12</td>\n",
       "      <td>2017</td>\n",
       "      <td>0.000000</td>\n",
       "      <td>1.000000</td>\n",
       "    </tr>\n",
       "    <tr>\n",
       "      <th>1</th>\n",
       "      <td>204</td>\n",
       "      <td>-5.5</td>\n",
       "      <td>38</td>\n",
       "      <td>0.8</td>\n",
       "      <td>2000</td>\n",
       "      <td>0.0</td>\n",
       "      <td>0.0</td>\n",
       "      <td>0.0</td>\n",
       "      <td>0</td>\n",
       "      <td>0</td>\n",
       "      <td>1</td>\n",
       "      <td>1</td>\n",
       "      <td>1</td>\n",
       "      <td>1</td>\n",
       "      <td>12</td>\n",
       "      <td>2017</td>\n",
       "      <td>0.269797</td>\n",
       "      <td>0.962917</td>\n",
       "    </tr>\n",
       "    <tr>\n",
       "      <th>2</th>\n",
       "      <td>173</td>\n",
       "      <td>-6.0</td>\n",
       "      <td>39</td>\n",
       "      <td>1.0</td>\n",
       "      <td>2000</td>\n",
       "      <td>0.0</td>\n",
       "      <td>0.0</td>\n",
       "      <td>0.0</td>\n",
       "      <td>0</td>\n",
       "      <td>0</td>\n",
       "      <td>1</td>\n",
       "      <td>1</td>\n",
       "      <td>1</td>\n",
       "      <td>1</td>\n",
       "      <td>12</td>\n",
       "      <td>2017</td>\n",
       "      <td>0.519584</td>\n",
       "      <td>0.854419</td>\n",
       "    </tr>\n",
       "    <tr>\n",
       "      <th>3</th>\n",
       "      <td>107</td>\n",
       "      <td>-6.2</td>\n",
       "      <td>40</td>\n",
       "      <td>0.9</td>\n",
       "      <td>2000</td>\n",
       "      <td>0.0</td>\n",
       "      <td>0.0</td>\n",
       "      <td>0.0</td>\n",
       "      <td>0</td>\n",
       "      <td>0</td>\n",
       "      <td>1</td>\n",
       "      <td>1</td>\n",
       "      <td>1</td>\n",
       "      <td>1</td>\n",
       "      <td>12</td>\n",
       "      <td>2017</td>\n",
       "      <td>0.730836</td>\n",
       "      <td>0.682553</td>\n",
       "    </tr>\n",
       "    <tr>\n",
       "      <th>4</th>\n",
       "      <td>78</td>\n",
       "      <td>-6.0</td>\n",
       "      <td>36</td>\n",
       "      <td>2.3</td>\n",
       "      <td>2000</td>\n",
       "      <td>0.0</td>\n",
       "      <td>0.0</td>\n",
       "      <td>0.0</td>\n",
       "      <td>0</td>\n",
       "      <td>0</td>\n",
       "      <td>1</td>\n",
       "      <td>1</td>\n",
       "      <td>1</td>\n",
       "      <td>1</td>\n",
       "      <td>12</td>\n",
       "      <td>2017</td>\n",
       "      <td>0.887885</td>\n",
       "      <td>0.460065</td>\n",
       "    </tr>\n",
       "  </tbody>\n",
       "</table>\n",
       "</div>"
      ],
      "text/plain": [
       "   Rented Bike Count  Temperature(°C)  Humidity(%)  Wind speed (m/s)  \\\n",
       "0                254             -5.2           37               2.2   \n",
       "1                204             -5.5           38               0.8   \n",
       "2                173             -6.0           39               1.0   \n",
       "3                107             -6.2           40               0.9   \n",
       "4                 78             -6.0           36               2.3   \n",
       "\n",
       "   Visibility (10m)  Solar Radiation (MJ/m2)  Rainfall(mm)  Snowfall (cm)  \\\n",
       "0              2000                      0.0           0.0            0.0   \n",
       "1              2000                      0.0           0.0            0.0   \n",
       "2              2000                      0.0           0.0            0.0   \n",
       "3              2000                      0.0           0.0            0.0   \n",
       "4              2000                      0.0           0.0            0.0   \n",
       "\n",
       "   Seasons_Spring  Seasons_Summer  Seasons_Winter  Holiday_No Holiday  \\\n",
       "0               0               0               1                   1   \n",
       "1               0               0               1                   1   \n",
       "2               0               0               1                   1   \n",
       "3               0               0               1                   1   \n",
       "4               0               0               1                   1   \n",
       "\n",
       "   Functioning Day_Yes  Day  Month  Year  hour_sin  hour_cos  \n",
       "0                    1    1     12  2017  0.000000  1.000000  \n",
       "1                    1    1     12  2017  0.269797  0.962917  \n",
       "2                    1    1     12  2017  0.519584  0.854419  \n",
       "3                    1    1     12  2017  0.730836  0.682553  \n",
       "4                    1    1     12  2017  0.887885  0.460065  "
      ]
     },
     "execution_count": 20,
     "metadata": {},
     "output_type": "execute_result"
    }
   ],
   "source": [
    "data['hour_sin'] = np.sin(2 * np.pi * data['Hour']/23.0)\n",
    "data['hour_cos'] = np.cos(2 * np.pi * data['Hour']/23.0)\n",
    "data = data.drop(columns = ['Hour'])\n",
    "data.head()"
   ]
  },
  {
   "cell_type": "code",
   "execution_count": 21,
   "metadata": {},
   "outputs": [],
   "source": [
    "res, pipe = test_model(data, 'TREE')\n",
    "results_list.append((\"Decision Tree Cyclical Hour\", res))\n",
    "\n",
    "res, pipe = test_model(data, 'RFR')\n",
    "results_list.append((\"RFR Cyclical Hour\", res))\n",
    "\n",
    "res, pipe = test_model(data, 'LR')\n",
    "results_list.append((\"LR Cyclical Hour\", res))\n",
    "\n",
    "res, pipe = test_model(data, 'KNN')\n",
    "results_list.append((\"KNN Cyclical Hour\", res))\n",
    "\n",
    "res, pipe = test_model(data, 'LASSO')\n",
    "results_list.append((\"Lasso Cyclical Hour\", res))\n",
    "\n",
    "res, pipe = test_model(data, 'ADABOOST')\n",
    "results_list.append((\"Ada Boost Cyclical Hour\", res))"
   ]
  },
  {
   "cell_type": "code",
   "execution_count": 22,
   "metadata": {},
   "outputs": [],
   "source": [
    "res, pipe = test_model(data, 'TREE', True)\n",
    "results_list.append((\"Decision Tree Cyclical Hour with standardization\", res))\n",
    "\n",
    "res, pipe = test_model(data, 'RFR', True)\n",
    "results_list.append((\"RFR Cyclical Hour with standardization\", res))\n",
    "\n",
    "res, pipe = test_model(data, 'LR', True)\n",
    "results_list.append((\"LR Cyclical Hour with standardization\", res))\n",
    "\n",
    "res, pipe = test_model(data, 'KNN', True)\n",
    "results_list.append((\"KNN Cyclical Hour with standardization\", res))\n",
    "\n",
    "res, pipe = test_model(data, 'LASSO', True)\n",
    "results_list.append((\"Lasso Cyclical Hour with standardization\", res))\n",
    "\n",
    "res, pipe = test_model(data, 'ADABOOST')\n",
    "results_list.append((\"Ada Boost Cyclical Hour with standardization\", res))"
   ]
  },
  {
   "cell_type": "code",
   "execution_count": 23,
   "metadata": {
    "scrolled": true
   },
   "outputs": [
    {
     "name": "stdout",
     "output_type": "stream",
     "text": [
      "Decision Tree basic -> R2: 0.7871227622545625\n",
      "RFR basic -> R2: 0.8851554460283066\n",
      "LR basic -> R2: 0.5508609899634875\n",
      "KNN basic -> R2: 0.5627252951065222\n",
      "Lasso basic -> R2: 0.550844572632409\n",
      "Ada Boost basic -> R2: 0.6561603798792653\n",
      "Decision Tree with standardization -> R2: 0.7809310033493239\n",
      "RFR with standardization -> R2: 0.8848836568903231\n",
      "LR with standardization -> R2: 0.5508609899634833\n",
      "KNN with standardization -> R2: 0.8060768434606149\n",
      "Lasso with standardization -> R2: 0.5508640731567997\n",
      "Ada Boost with standardization -> R2: 0.6561603798792653\n",
      "Decision Tree Cyclical Hour -> R2: 0.7746109217511175\n",
      "RFR Cyclical Hour -> R2: 0.8805397973852687\n",
      "LR Cyclical Hour -> R2: 0.537490383657205\n",
      "KNN Cyclical Hour -> R2: 0.4679350275783122\n",
      "Lasso Cyclical Hour -> R2: 0.5374760552359235\n",
      "Ada Boost Cyclical Hour -> R2: 0.646913408445571\n",
      "Decision Tree Cyclical Hour with standardization -> R2: 0.7683290232484403\n",
      "RFR Cyclical Hour with standardization -> R2: 0.8827442289148454\n",
      "LR Cyclical Hour with standardization -> R2: 0.5374903836571965\n",
      "KNN Cyclical Hour with standardization -> R2: 0.8453520257378946\n",
      "Lasso Cyclical Hour with standardization -> R2: 0.5374943687766038\n",
      "Ada Boost Cyclical Hour with standardization -> R2: 0.646913408445571\n"
     ]
    }
   ],
   "source": [
    "for r in results_list:\n",
    "    print(r[0] + \" -> R2: \" + str(r[1].mean()))"
   ]
  },
  {
   "cell_type": "markdown",
   "metadata": {},
   "source": [
    "Results:\n",
    "\n",
    "| Model | Basic | With standardization | Cyclical Hour | Cyclical Hour + Standardization |\n",
    "| --- | --- | --- | --- | --- |\n",
    "| Linear Regression | 0.5508 | 0.5508 | 0.5375 | 0.5375 |\n",
    "| Random Forest | 0.8847 | 0.8849 | 0.8814 | 0.8817 |\n",
    "| Decision Trees  | 0.7831 | 0.7829 | 0.7723 | 0.7787 |\n",
    "| K-Nearest Neighors | 0.5627 | 0.8060 | 0.4679 | 0.8453 |\n",
    "| Lasso | 0.5508 | 0.5508 | 0.5375 | 0.5375 |\n",
    "| Ada Boost | 0.6561 | 0.6562 | 0.6469 | 0.6469 |"
   ]
  },
  {
   "cell_type": "markdown",
   "metadata": {},
   "source": [
    "Older results, when column \"Date\" was completely removed:\n",
    "\n",
    "| Model | Basic | With standardization | Cyclical Hour | Cyclical Hour + Standardization |\n",
    "| --- | --- | --- | --- | --- |\n",
    "| Linear Regression | 0.5477 | 0.5477 | 0.5347 | 0.5347 |\n",
    "| Random Forest | 0.8727 | 0.8736 | 0.8697 | 0.8689 |\n",
    "| Decision Trees  | 0.7633 | 0.7694 | 0.7457 | 0.7466 |\n",
    "| K-Nearest Neighors | 0.5609 | 0.8002 | 0.4500 | 0.8301 |\n",
    "| Lasso | 0.5477 | 0.5477 | 0.5347 | 0.5347 |\n",
    "| Ada Boost | 0.6321 | 0.6321 | 0.6036 | 0.6036 |"
   ]
  },
  {
   "cell_type": "markdown",
   "metadata": {},
   "source": [
    "# 4. Summary\n",
    "\n",
    "The following regression models were used:\n",
    "\n",
    "- Linear Regression\n",
    "- K-Nearest Neighbors Regressor\n",
    "- Random Forest Regressor\n",
    "- Decision Trees Regressor\n",
    "- Lasso Regressor\n",
    "- Ada Boost with Decision Trees\n",
    "\n",
    "The best results were achieved using Random Forest Regressor with the highest R^2 score of 0.8849\n",
    "\n",
    "Standardization didn't always result in better scores. Furthermore, predefining column \"Hour\" in a cyclical way mostly resulted in worse scores. \n",
    "\n",
    "Not using column \"Date\" at all results in worse scores than using this column but separated in three columns: \"Day\", \"Month\" and \"Year\"."
   ]
  }
 ],
 "metadata": {
  "kernelspec": {
   "display_name": "Python 3",
   "language": "python",
   "name": "python3"
  },
  "language_info": {
   "codemirror_mode": {
    "name": "ipython",
    "version": 3
   },
   "file_extension": ".py",
   "mimetype": "text/x-python",
   "name": "python",
   "nbconvert_exporter": "python",
   "pygments_lexer": "ipython3",
   "version": "3.8.5"
  }
 },
 "nbformat": 4,
 "nbformat_minor": 4
}
